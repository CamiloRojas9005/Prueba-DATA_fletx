{
  "nbformat": 4,
  "nbformat_minor": 0,
  "metadata": {
    "colab": {
      "provenance": []
    },
    "kernelspec": {
      "name": "python3",
      "display_name": "Python 3"
    },
    "language_info": {
      "name": "python"
    }
  },
  "cells": [
    {
      "cell_type": "code",
      "execution_count": null,
      "metadata": {
        "colab": {
          "base_uri": "https://localhost:8080/"
        },
        "id": "Fn0Tc6Ghb5II",
        "outputId": "220e1fbe-ccf4-4eee-bb0b-73733f922757"
      },
      "outputs": [
        {
          "output_type": "stream",
          "name": "stdout",
          "text": [
            "Requirement already satisfied: mysql-connector-python in /usr/local/lib/python3.10/dist-packages (9.1.0)\n",
            "Collecting pymysql\n",
            "  Downloading PyMySQL-1.1.1-py3-none-any.whl.metadata (4.4 kB)\n",
            "Downloading PyMySQL-1.1.1-py3-none-any.whl (44 kB)\n",
            "\u001b[2K   \u001b[90m━━━━━━━━━━━━━━━━━━━━━━━━━━━━━━━━━━━━━━━━\u001b[0m \u001b[32m45.0/45.0 kB\u001b[0m \u001b[31m1.6 MB/s\u001b[0m eta \u001b[36m0:00:00\u001b[0m\n",
            "\u001b[?25hInstalling collected packages: pymysql\n",
            "Successfully installed pymysql-1.1.1\n"
          ]
        }
      ],
      "source": [
        "!pip install mysql-connector-python\n",
        "!pip install pymysql"
      ]
    },
    {
      "cell_type": "code",
      "source": [
        "#-------------Forma para conectar a la base de Datos\n",
        "import pymysql\n",
        "sql = pymysql.connect(\n",
        "    host = 'host de la base de datos',\n",
        "    port = 3306,   # puerto de la base de datos\n",
        "    user = 'usuario autorizado ',\n",
        "    password = 'clave del usuario ',\n",
        "    database='Nombre de la base de datos'\n",
        ")\n",
        "#----------------------------------------"
      ],
      "metadata": {
        "id": "rONhd8LHoRQo"
      },
      "execution_count": null,
      "outputs": []
    },
    {
      "cell_type": "code",
      "source": [
        "import mysql.connector\n",
        "\n",
        "''' Datos de ejemplo!!!'''\n",
        "datosEjemplo = [\n",
        "   {\"id\": 1, \"nombre\": \"Producto A\", \"precio\": 100.50},\n",
        "   {\"id\": 2, \"nombre\": \"Producto B\", \"precio\": 200.75}\n",
        "]\n",
        "\n",
        "def exportarData(datos, archivo='backup.sql'):      # metodo para la ejecucion de exportacion de datos\n",
        "   with open(archivo, 'w') as f:\n",
        "\n",
        "       f.write(\"CREATE TABLE productos (\\n\")\n",
        "       f.write(\"  id INT,\\n\")\n",
        "       f.write(\"  nombre VARCHAR(100),\\n\")\n",
        "       f.write(\"  precio DECIMAL(10,2)\\n\")\n",
        "       f.write(\");\\n\\n\")\n",
        "\n",
        "\n",
        "       for registro in datos:\n",
        "           f.write(f\"INSERT INTO productos VALUES \")\n",
        "           f.write(f\"({registro['id']}, '{registro['nombre']}', {registro['precio']});\\n\")\n",
        "\n",
        "   print(f\"Datos exportados a {archivo}\")\n",
        "\n",
        "# Ejecutar simulación\n",
        "exportarData(datosEjemplo)\n",
        "\n",
        "# Importación en Cloud SQL (pasos manuales):\n",
        "# 1. Subir archivo backup.sql a Cloud Storage\n",
        "# 2. Conectar a instancia Cloud SQL\n",
        "# 3. Ejecutar: mysql -h [IP] -u [usuario] -p [base_datos] < backup.sql"
      ],
      "metadata": {
        "colab": {
          "base_uri": "https://localhost:8080/"
        },
        "id": "l3SJZAAQcIU7",
        "outputId": "0f518727-5da8-41f3-e605-31f9f0fdca1e"
      },
      "execution_count": null,
      "outputs": [
        {
          "output_type": "stream",
          "name": "stdout",
          "text": [
            "Datos exportados a backup.sql\n"
          ]
        }
      ]
    },
    {
      "cell_type": "markdown",
      "source": [
        "**Codigo de ejemplo de como seria la generacion del Backup**"
      ],
      "metadata": {
        "id": "jzVr5cnWr_Xz"
      }
    },
    {
      "cell_type": "code",
      "source": [
        "'''Codigo de ejemplo para extraccion de datos bd mysqql'''\n",
        "import pymysql\n",
        "import os\n",
        "\n",
        "# Conexión a la base de datos MySQL local\n",
        "def conexionBD ():\n",
        "    connection = pymysql.connect(\n",
        "        host='localhost',  # Dirección de tu servidor MySQL local\n",
        "        port=3306,         # Puerto por defecto de MySQL\n",
        "        user='usuario',    # Usuario autorizado\n",
        "        password='clave',  # Contraseña del usuario\n",
        "        database='nombre Base de Datos'  # Nombre de la base de datos a exportar\n",
        "    )\n",
        "    return connection\n",
        "\n",
        "# funcion para realizar una consulta y obtener datos !!\n",
        "def importarDataDB(connection):\n",
        "    with connection.cursor() as cursor:\n",
        "        cursor.execute(\"SELECT * FROM productos\")  # consulta MySQL\n",
        "        result = cursor.fetchall()\n",
        "        return result\n",
        "\n",
        "#ejecucion\n",
        "conexion = conexionBD()\n",
        "datos = importarDataDB(conexion)\n",
        "print(datos)\n",
        "conexion.close()\n",
        "\n",
        "\n",
        "############################################################################################################\n",
        "'''Exportacion de la Base de datos a un archivo llamado backup.sql'''\n",
        "\n",
        "def ExportarBD():\n",
        "    # Exporta la base de datos usando mysqldump\n",
        "    os.system(\"mysqldump -u usuario -pclave nombre_basedatos > backup.sql\")\n",
        "    print(\"Base de datos exportada a backup.sql\")\n",
        "\n",
        "# Ejecutar la exportación\n",
        "ExportarBD()"
      ],
      "metadata": {
        "id": "Tkt3VVFpqpYU"
      },
      "execution_count": null,
      "outputs": []
    },
    {
      "cell_type": "code",
      "source": [
        "# Pasos reales para importación en Cloud SQL:\n",
        "\n",
        "# 1. Exportación desde MySQL local\n",
        "# mysqldump -u [usuario] -p [base_datos] > backup.sql\n",
        "\n",
        "# 2. Subir a Cloud Storage\n",
        "# gsutil cp backup.sql gs://[bucket]/backup.sql\n",
        "\n",
        "# 3. Conectar a instancia Cloud SQL\n",
        "# gcloud sql connect [nombre-instancia] -u [usuario]\n",
        "\n",
        "# 4. En la consola MySQL de Cloud SQL\n",
        "# CREATE DATABASE [nombre_basedatos];\n",
        "# USE [nombre_basedatos];\n",
        "\n",
        "# 5. Importar desde Cloud Storage\n",
        "# source gs://[bucket]/backup.sql;"
      ],
      "metadata": {
        "id": "g_FwtX_yr8YD"
      },
      "execution_count": null,
      "outputs": []
    }
  ]
}