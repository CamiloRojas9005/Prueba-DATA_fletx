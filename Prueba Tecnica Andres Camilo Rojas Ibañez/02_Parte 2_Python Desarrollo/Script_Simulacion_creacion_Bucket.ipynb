{
  "nbformat": 4,
  "nbformat_minor": 0,
  "metadata": {
    "colab": {
      "provenance": []
    },
    "kernelspec": {
      "name": "python3",
      "display_name": "Python 3"
    },
    "language_info": {
      "name": "python"
    }
  },
  "cells": [
    {
      "cell_type": "markdown",
      "source": [
        "**Importaciones de Librerías necesarias para la simulación**"
      ],
      "metadata": {
        "id": "KjV1AHhwa29c"
      }
    },
    {
      "cell_type": "code",
      "execution_count": null,
      "metadata": {
        "id": "-utqEL7Qud0l"
      },
      "outputs": [],
      "source": [
        "import os\n",
        "import random\n",
        "import time\n",
        "import logging\n",
        "import uuid\n",
        "from datetime import datetime"
      ]
    },
    {
      "cell_type": "code",
      "source": [
        "logging.getLogger().setLevel(logging.INFO)"
      ],
      "metadata": {
        "id": "utDFFfmo0f4s"
      },
      "execution_count": null,
      "outputs": []
    },
    {
      "cell_type": "markdown",
      "source": [],
      "metadata": {
        "id": "E-a1sp7sajyd"
      }
    },
    {
      "cell_type": "markdown",
      "source": [
        "**Metodos que realizan la simulacion para la creacion del bucket\n",
        "  manejando los errores en dado caso que el bucket ya este creado\n",
        "  y retornando la informacion de los bucket creados, como lo es simulando el id, nombre, proveedor, y fecha creado\n",
        "**"
      ],
      "metadata": {
        "id": "rKz3KM75bhgh"
      }
    },
    {
      "cell_type": "code",
      "source": [
        "#funcion para aws S3\n",
        "def awsCreacionBucket(bucket):\n",
        "  try:\n",
        "    if random.choice([True, False]):\n",
        "      raise Exception(\"el bucket aws S3 ya existe\")\n",
        "\n",
        "    infoBucket = {\n",
        "        'id' : str(uuid.uuid4()),\n",
        "        'nombre' : bucket,\n",
        "        'proveedor' : 'AWS S3',\n",
        "        'fecha creado' : datetime.now()\n",
        "    }\n",
        "    logging.info(f'El bucket se creo correctamente : {infoBucket}')\n",
        "\n",
        "    return infoBucket\n",
        "\n",
        "  except Exception as e:\n",
        "\n",
        "    logging.error(f\"Error al crear el bucket en aws S3 : {e}\")\n",
        "    return None\n",
        "\n",
        "\n",
        "#Funcion para GCP\n",
        "def gcpCreacionBucket(bucket):\n",
        "  try:\n",
        "    if random.choice([True, False]):\n",
        "      raise Exception(\"el bucket en GCP ya existe\")\n",
        "\n",
        "    infoBucketGcp = {\n",
        "        'id' : str(uuid.uuid4()),\n",
        "        'nombre' : bucket,\n",
        "        'proveedor' : 'GCP',\n",
        "        'fecha creado' : datetime.now()\n",
        "    }\n",
        "    logging.info(f'El bucket se creo correctamente : {infoBucketGcp}')\n",
        "    return infoBucketGcp\n",
        "\n",
        "  except Exception as e:\n",
        "\n",
        "    logging.error(f\"Error al crear el bucket en GCP : {e}\")\n",
        "    return None"
      ],
      "metadata": {
        "id": "rZ7xGjMuuwEk"
      },
      "execution_count": null,
      "outputs": []
    },
    {
      "cell_type": "markdown",
      "source": [
        "**Funciones que emulan la subida de archivas simulando un tiempo de subida y un tamaño del archivo, y manejando errores**"
      ],
      "metadata": {
        "id": "LLW9BOIIcz1b"
      }
    },
    {
      "cell_type": "code",
      "source": [
        "#CARGA DE LOS ARCHIVOS\n",
        "\n",
        "def awsCargarArchivos(bucket, archivo):\n",
        "  try:\n",
        "    tiempoCarga = random.uniform(1, 4)   # genera un numero random para emular un tiempo de carga\n",
        "    time.sleep(tiempoCarga)\n",
        "\n",
        "    informacionarchivo = {     # informacion del archivo en donde se le asigna un uid, un nombre de archivo, tamaño y un tiempo de carga\n",
        "            'id': str(uuid.uuid4()),\n",
        "            'nombre': archivo,\n",
        "            'bucket': bucket,\n",
        "            'proveedor': 'AWS',\n",
        "            'fecha_subida': datetime.now(),\n",
        "            'tamano': random.randint(10, 1000),  # Tamaño en KB\n",
        "            'tiempo_carga': round(tiempoCarga, 2)\n",
        "        }\n",
        "\n",
        "\n",
        "    logging.info(f'El archivo {archivo}, se subio con exito al bucket de nombre {bucket} en aws S3 \\n{informacionarchivo}')\n",
        "  except Exception as e:\n",
        "    logging.error(f\"Error al subir el archivo al bucket en aws S3 {e}\")\n",
        "\n",
        "\n",
        "def gcpCargarArchivos(bucket, archivo):\n",
        "  try:\n",
        "    tiempoCarga = random.uniform(1, 4)      # genera un numero random para emular un tiempo de carga\n",
        "    time.sleep(tiempoCarga)\n",
        "\n",
        "    informacionarchivo = {    # informacion del archivo en donde se le asigna un uid, un nombre de archivo, tamaño y un tiempo de carga\n",
        "            'id': str(uuid.uuid4()),\n",
        "            'nombre': archivo,\n",
        "            'bucket': bucket,\n",
        "            'proveedor': 'GCP',\n",
        "            'fecha_subida': datetime.now(),\n",
        "            'tamano': random.randint(10, 1000),\n",
        "            'tiempo_carga': round(tiempoCarga, 2)\n",
        "        }\n",
        "\n",
        "    logging.info(f'El archivo {archivo}, se subio con exito al bucket de nombre {bucket} en GCP \\n{informacionarchivo}')\n",
        "\n",
        "  except Exception as e:\n",
        "    logging.error(f\"Error al subir el archivo al bucket en GCP {e}\")"
      ],
      "metadata": {
        "id": "ErtEhQ8RxlU7"
      },
      "execution_count": null,
      "outputs": []
    },
    {
      "cell_type": "markdown",
      "source": [
        "**Funcion Principal: en donde se crean los bucket (contenedores), y se cargan los archivos emulados en aws y gcp **"
      ],
      "metadata": {
        "id": "JXtvCtV3doNa"
      }
    },
    {
      "cell_type": "code",
      "source": [
        "def main():\n",
        "  AWS_BUCKET_NAME = \"aws_Simulacion\"\n",
        "  GCP_BUCKET_NAME = \"GCP_Simulacion\"\n",
        "  archivo =' prueba.txt'\n",
        "\n",
        "  aws = awsCreacionBucket(AWS_BUCKET_NAME)\n",
        "  # print(aws)\n",
        "  gcp = gcpCreacionBucket(GCP_BUCKET_NAME)\n",
        "  # print(gcp)\n",
        "\n",
        "  awsCargarArchivos(AWS_BUCKET_NAME, archivo)\n",
        "\n",
        "  gcpCargarArchivos(GCP_BUCKET_NAME, archivo)"
      ],
      "metadata": {
        "id": "pJ6Hh_XjyYQt"
      },
      "execution_count": null,
      "outputs": []
    },
    {
      "cell_type": "code",
      "source": [
        "if __name__ == '__main__':\n",
        "  main()"
      ],
      "metadata": {
        "colab": {
          "base_uri": "https://localhost:8080/"
        },
        "id": "Xmpn9FHuzQhl",
        "outputId": "2e96a717-2246-4e4a-ebe6-eb4d8d0a7ed9"
      },
      "execution_count": null,
      "outputs": [
        {
          "output_type": "stream",
          "name": "stderr",
          "text": [
            "INFO:root:El bucket se creo correctamente : {'id': '5a4310a6-9f4f-40af-82d7-8452e583c489', 'nombre': 'aws_Simulacion', 'proveedor': 'AWS S3', 'fecha creado': datetime.datetime(2024, 11, 20, 23, 58, 14, 238810)}\n",
            "INFO:root:El bucket se creo correctamente : {'id': 'f165d359-f137-4c4f-93eb-c6fd3a312c5f', 'nombre': 'GCP_Simulacion', 'proveedor': 'GCP', 'fecha creado': datetime.datetime(2024, 11, 20, 23, 58, 14, 242068)}\n",
            "INFO:root:El archivo  prueba.txt, se subio con exito al bucket de nombre aws_Simulacion en aws S3 \n",
            "{'id': '765c1534-6bc4-4d4b-98ca-d6a60cb0342b', 'nombre': ' prueba.txt', 'bucket': 'aws_Simulacion', 'proveedor': 'AWS', 'fecha_subida': datetime.datetime(2024, 11, 20, 23, 58, 16, 480622), 'tamano': 185, 'tiempo_carga': 2.24}\n",
            "INFO:root:El archivo  prueba.txt, se subio con exito al bucket de nombre GCP_Simulacion en GCP \n",
            "{'id': 'de1371bb-42cc-49cd-9822-43e1ae89d663', 'nombre': ' prueba.txt', 'bucket': 'GCP_Simulacion', 'proveedor': 'GCP', 'fecha_subida': datetime.datetime(2024, 11, 20, 23, 58, 19, 481461), 'tamano': 835, 'tiempo_carga': 3.0}\n"
          ]
        }
      ]
    }
  ]
}